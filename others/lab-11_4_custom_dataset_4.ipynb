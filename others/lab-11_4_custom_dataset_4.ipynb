{
 "cells": [
  {
   "cell_type": "markdown",
   "metadata": {},
   "source": [
    "#    모두를 위한 딥러닝 시즌2 pytorch\n",
    "    *** Custom Dataset은 어떻게 쓰나요? (4)***\n",
    "\n",
    "    이번에는 Neural Network를 만들어 보겠습니다.\n",
    "    이전 장에서 다뤘던 내용들을 한번 다시 되집어 볼까요?\n",
    "\n",
    "    우리는 학습시킬 Neural Network를 class를 통해서 정의합니다.\n",
    "\n",
    "    class \"Neural Network의 이름\"(nn.Module):\n",
    "        def __init__(self):\n",
    "            super(Neural Network의 이름\",self).__init__()\n",
    "            ~~~~~~~~~~~~~~~~\n",
    "        def __forword(self,inputs):\n",
    "            ~~~~~~~~~~~~~~~~\n",
    "\n",
    "        위와 같은 형태로 선언 했던것 기억 나시나요?\n",
    "\n",
    "        우리는 Convolution layer를 사용하기로 했으니까 Convolution 연산에 대해서 알아봅시다.\n",
    "\n",
    "        자 빠르게 command창을 켜고(linux나 mac이라면 terminal)\n",
    "\n",
    "        import torch.nn as nn을 하고\n",
    "        dir(nn)명령어를 입력해 볼까요?\n",
    "        엄청 나게 많은 것을이 나오는걸 보셨나요?\n",
    "        dir은 괄호 안의 값에 속한 function이나 value를 보여주는 pythnon의 기본 기능입니다.\n",
    "        내가 사용해야 되는 function이 무슨 기능이 있는지 아주 좋은 함수죠! (모르셨다면 어마어마한 꿀팁 아닙니까 정말?)\n",
    "        거기 나와있는거 다 쓰시면 됩니다.\n",
    "        CNN Architecture중 가장 간단한 LeNet-5를 만들어 볼껀데\n",
    "        이제 시작해볼까요?"
   ]
  },
  {
   "cell_type": "code",
   "execution_count": null,
   "metadata": {},
   "outputs": [],
   "source": [
    "from torch.utils.data import DataLoader\n",
    "\n",
    "import torchvision\n",
    "from torchvision import transforms\n",
    "\n",
    "import torch.nn as nn\n",
    "import torch.nn.functional as F\n"
   ]
  },
  {
   "cell_type": "code",
   "execution_count": null,
   "metadata": {},
   "outputs": [],
   "source": [
    "data=0"
   ]
  },
  {
   "cell_type": "code",
   "execution_count": null,
   "metadata": {},
   "outputs": [],
   "source": [
    "class NN(nn.Module):\n",
    "    def __init__(self):\n",
    "        super(NN,self).__init__()\n",
    "        self.conv1 = nn.Conv2d(3,6,5)\n",
    "        self.conv2 = nn.Conv2d(6,16,5)\n",
    "        self.pool=nn.MaxPool2d(2)\n",
    "        self.fc1 = nn.Linear(16*13*29,120)\n",
    "        self.fc2 = nn.Linear(120,2)\n",
    "\n",
    "    def forward(self,x):\n",
    "        x=F.relu(self.conv1(x))\n",
    "        x=self.pool(x)\n",
    "        x=F.relu(self.conv2(x))\n",
    "        x=self.pool(x)\n",
    "        x=x.view(x.shape[0],-1)\n",
    "        x=F.relu(self.fc1(x))\n",
    "        x=self.fc2(x)\n",
    "        return x"
   ]
  },
  {
   "cell_type": "code",
   "execution_count": null,
   "metadata": {},
   "outputs": [],
   "source": [
    "trans = transforms.Compose([\n",
    "    transforms.ToTensor()\n",
    "])"
   ]
  },
  {
   "cell_type": "code",
   "execution_count": null,
   "metadata": {},
   "outputs": [],
   "source": [
    "train_data=torchvision.datasets.ImageFolder(root='./train_data',transform=trans)\n",
    "trainloader=DataLoader(dataset=train_data,batch_size=4,shuffle=True,num_workers=4)"
   ]
  },
  {
   "cell_type": "code",
   "execution_count": null,
   "metadata": {},
   "outputs": [],
   "source": [
    "net = NN()\n",
    "\n",
    "for num, data in enumerate(trainloader):\n",
    "    print(data[0].shape)\n",
    "    out = net(data[0])\n",
    "    print(out.shape)\n",
    "    break"
   ]
  },
  {
   "cell_type": "code",
   "execution_count": null,
   "metadata": {},
   "outputs": [],
   "source": []
  }
 ],
 "metadata": {
  "kernelspec": {
   "display_name": "Python 3",
   "language": "python",
   "name": "python3"
  },
  "language_info": {
   "codemirror_mode": {
    "name": "ipython",
    "version": 3
   },
   "file_extension": ".py",
   "mimetype": "text/x-python",
   "name": "python",
   "nbconvert_exporter": "python",
   "pygments_lexer": "ipython3",
   "version": "3.7.1"
  }
 },
 "nbformat": 4,
 "nbformat_minor": 2
}
