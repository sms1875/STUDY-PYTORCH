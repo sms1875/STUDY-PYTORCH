{
 "cells": [
  {
   "cell_type": "markdown",
   "metadata": {},
   "source": [
    "#    모두를 위한 딥러닝 시즌2 pytorch\n",
    "\n",
    "    *** Custom Dataset은 어떻게 쓰나요? (2) ***\n",
    "\n",
    "    2. 읽어온 Custom Dataset에 대해서 transform 진행하기\n",
    "\n",
    "    from torchvision import transoforms 추가\n",
    "\n",
    "    transforms는 입력된 이미지를 transform 할 수 있는 함수들이 모여 있습니다.\n",
    "\n",
    "    transforms를 통해 이미지의 크기와 type을 변경해 봅시다.\n",
    "    transforms.Compose( ) 를 이용해서 변형을 한번에 여러개를 진행할 수 있습니다.\n",
    "    transforms.Compose( 이 안에 list 형태로 transforms 명령어 들을 넣어주면 됩니다. )\n",
    "\n",
    "    ex)\n",
    "    trans = transforms.Compose( [transforms.Resize((256,256)),\n",
    "                                     transforms.ToTensor()])\n",
    "\n",
    "    이번 코드에서는 transforms를 이용해서 기존의 origin_data를 작은 크기로 변환하고 저장하는 작업을 수행해 봅시다."
   ]
  },
  {
   "cell_type": "code",
   "execution_count": null,
   "metadata": {},
   "outputs": [],
   "source": [
    "import torchvision\n",
    "from matplotlib.pyplot import imshow\n",
    "%matplotlib inline"
   ]
  },
  {
   "cell_type": "code",
   "execution_count": null,
   "metadata": {},
   "outputs": [],
   "source": [
    "from torchvision import transforms"
   ]
  },
  {
   "cell_type": "code",
   "execution_count": null,
   "metadata": {},
   "outputs": [],
   "source": [
    "data=0"
   ]
  },
  {
   "cell_type": "markdown",
   "metadata": {},
   "source": [
    "### 실제로 예를 들기 위해서 Resize만 진행했습니다.\n",
    "### 다음장에서는 ToTensor까지 적용된 코드로 수행하도록 하겠습니다."
   ]
  },
  {
   "cell_type": "code",
   "execution_count": null,
   "metadata": {},
   "outputs": [],
   "source": [
    "trans = transforms.Compose([\n",
    "    transforms.Resize((64,128)),\n",
    "])\n",
    "train_data=torchvision.datasets.ImageFolder(root='./origin_data',transform=trans)"
   ]
  },
  {
   "cell_type": "markdown",
   "metadata": {},
   "source": [
    "    # 위에 import 하지는 않았지만 torchvision이 이미지를 PIL library를 이용해서 다루기 때문에\n",
    "    # 자동으로 읽어진 이미지는 PIL의 data type을 가지게 됩니다.\n",
    "    # 따라서 PIL.Image.Image의 기능중 save라는 기능을 이용해서 저장을 수행합니다.\n",
    "    # 지금 코드에는 train_data folder가 있지만 삭제하고 직접 train_folder와 gray, red 폴더를 만들고\n",
    "    # 아래 코드를 수행해보세요"
   ]
  },
  {
   "cell_type": "code",
   "execution_count": null,
   "metadata": {},
   "outputs": [],
   "source": [
    "for num, value in enumerate(train_data):\n",
    "    data, label = value\n",
    "    print(num, data, label)\n",
    "\n",
    "    if(label==0):\n",
    "        data.save(\"./train_data/gray/%d_%d.jpeg\" % (num, label))\n",
    "    else:\n",
    "        data.save(\"./train_data/red/%d_%d.jpeg\" % (num, label))\n",
    "\n"
   ]
  },
  {
   "cell_type": "code",
   "execution_count": null,
   "metadata": {},
   "outputs": [],
   "source": [
    "imshow(data)\n",
    "print(data)"
   ]
  },
  {
   "cell_type": "code",
   "execution_count": null,
   "metadata": {},
   "outputs": [],
   "source": []
  }
 ],
 "metadata": {
  "kernelspec": {
   "display_name": "Python 3",
   "language": "python",
   "name": "python3"
  },
  "language_info": {
   "codemirror_mode": {
    "name": "ipython",
    "version": 3
   },
   "file_extension": ".py",
   "mimetype": "text/x-python",
   "name": "python",
   "nbconvert_exporter": "python",
   "pygments_lexer": "ipython3",
   "version": "3.7.1"
  }
 },
 "nbformat": 4,
 "nbformat_minor": 2
}
