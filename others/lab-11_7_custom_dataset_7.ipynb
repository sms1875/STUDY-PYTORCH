{
 "cells": [
  {
   "cell_type": "markdown",
   "metadata": {},
   "source": [
    "#    모두를 위한 딥러닝 시즌2 pytorch\n",
    "    *** Custom Dataset은 어떻게 쓰나요? (7)***\n",
    "\n",
    "        6번째 파일에서는 학습된 모델을 저장하고 불러오는 방법까지 배워봤습니다. \n",
    "        7번째로 완성된 모델의 성능을 평가하는 것을 진행해볼겁니다. \n",
    "        모델의 성능평가를 위해서는 성능평가를 진행할 테스트 데이터 셋이 필요합니다. \n",
    "        \n",
    "        데이터셋에는 3가지 종류가 있는데 \n",
    "        \n",
    "        Training dataset : 학습을 위한 Dataset\n",
    "        Validation dataset : 학습 중에 학습이 잘 되고 있는지 확인 하는 Dataset, Training dataset의 일부를 사용\n",
    "        Test dataset : 학습이 완료된 이후에 학습이 잘 되었는지 확인하는 Dataset\n",
    "        \n",
    "        위와 같습니다. \n",
    "        \n",
    "        제가 작성한 코드에는 아쉽게도 Validation dataset은 없습니다. \n",
    "        기존에 가지고 있는 dataset이 매우 작기 때문입니다. \n",
    "        \n",
    "        아래에서는 testset을 이용한 평가를 진행하기 때문에 기존에 사용했던 train_data 및 train_dataset은 사용하지 않습니다. "
   ]
  },
  {
   "cell_type": "code",
   "execution_count": null,
   "metadata": {},
   "outputs": [],
   "source": [
    "import torch\n",
    "import torch.nn as nn\n",
    "import torch.nn.functional as F\n",
    "\n",
    "from torch.utils.data import DataLoader\n",
    "import torchvision\n",
    "\n",
    "from CNN_ksg.model import model"
   ]
  },
  {
   "cell_type": "code",
   "execution_count": null,
   "metadata": {},
   "outputs": [],
   "source": [
    "trans = torchvision.transforms.Compose([\n",
    "    torchvision.transforms.Resize((64,128)),\n",
    "    torchvision.transforms.ToTensor()\n",
    "])"
   ]
  },
  {
   "cell_type": "markdown",
   "metadata": {},
   "source": [
    "위에서 말씀드린대로 아래에서는 test dataset을 사용합니다. "
   ]
  },
  {
   "cell_type": "code",
   "execution_count": null,
   "metadata": {},
   "outputs": [],
   "source": [
    "test_data = torchvision.datasets.ImageFolder(root='./CNN_ksg/test_data', transform=trans)\n",
    "testloader = DataLoader(dataset=test_data, batch_size=8, shuffle=True, num_workers=4)"
   ]
  },
  {
   "cell_type": "code",
   "execution_count": null,
   "metadata": {},
   "outputs": [],
   "source": [
    "length = len(testloader)\n",
    "print(length)"
   ]
  },
  {
   "cell_type": "code",
   "execution_count": null,
   "metadata": {},
   "outputs": [],
   "source": [
    "pre_train_net = model.NN()\n",
    "pre_train_net.load_state_dict(torch.load('./CNN_ksg/model/model.pth'))"
   ]
  },
  {
   "cell_type": "code",
   "execution_count": null,
   "metadata": {},
   "outputs": [],
   "source": [
    "device='cuda'\n",
    "pre_train_net = pre_train_net.to(device)"
   ]
  },
  {
   "cell_type": "code",
   "execution_count": null,
   "metadata": {},
   "outputs": [],
   "source": [
    "# 몇개 맞았는지 저장할 변수\n",
    "correct = 0\n",
    "# 전체 개수를 저장할 변수\n",
    "total = 0"
   ]
  },
  {
   "cell_type": "code",
   "execution_count": null,
   "metadata": {},
   "outputs": [],
   "source": [
    "for num, data in enumerate(testloader):\n",
    "    inputs, labels = data\n",
    "    inputs = inputs.to(device)\n",
    "\n",
    "    out = pre_train_net(inputs)\n",
    "    _, predicted = torch.max(out,1)\n",
    "\n",
    "    #torch.Tensor.cuda()하고 torch.Tensor()는 비교가 안됩니다.\n",
    "    #따라서 .cpu() 를 이용해서 바꿔주세요\n",
    "    predicted = predicted.cpu()\n",
    "    total += labels.size(0)\n",
    "\n",
    "    #잘 맞추고 있는지 궁금하면 아래 print를 출력해 보세요\n",
    "    #print(predicted, labels)\n",
    "\n",
    "    correct += (predicted == labels).sum().item()"
   ]
  },
  {
   "cell_type": "code",
   "execution_count": null,
   "metadata": {},
   "outputs": [],
   "source": [
    "print('Accuracy of the network on the 50 test images : %d %%'%(100* correct /total))"
   ]
  },
  {
   "cell_type": "code",
   "execution_count": null,
   "metadata": {},
   "outputs": [],
   "source": []
  }
 ],
 "metadata": {
  "kernelspec": {
   "display_name": "Python 3",
   "language": "python",
   "name": "python3"
  },
  "language_info": {
   "codemirror_mode": {
    "name": "ipython",
    "version": 3
   },
   "file_extension": ".py",
   "mimetype": "text/x-python",
   "name": "python",
   "nbconvert_exporter": "python",
   "pygments_lexer": "ipython3",
   "version": "3.7.1"
  }
 },
 "nbformat": 4,
 "nbformat_minor": 2
}
