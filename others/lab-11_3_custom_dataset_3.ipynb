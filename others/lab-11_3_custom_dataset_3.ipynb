{
 "cells": [
  {
   "cell_type": "markdown",
   "metadata": {},
   "source": [
    "#    모두를 위한 딥러닝 시즌2 pytorch\n",
    "    *** Custom Dataset은 어떻게 쓰나요? (3)***\n",
    "\n",
    "    이제 training을 위한 코드를 작성해 보도록 하겠습니다.\n",
    "\n",
    "    datasets으로 불러오는 방법을 수행해보죠\n",
    "\n",
    "    우선 form torch.utils.data import DataLoader 명령으로\n",
    "\n",
    "    DataLoader를 가져 옵니다.\n",
    "\n",
    "    DataLoader에는 아까 만든 train_data를 넣어주고 몇가지 인자를 추가하여 값을 넣어줍니다.\n",
    "\n",
    "    torch.utils.data.DataLoader가 입력을 받는 자세한 값들은 아래 링크에서 확인해보세요\n",
    "    https://pytorch.org/docs/master/data.html?highlight=dataloader#torch.utils.data.DataLoader\n",
    "\n",
    "    간단한 것들만 살펴보겠습니다.\n",
    "\n",
    "    dataset     : torchvision.datasets.ImageFolder로 만들어낸 train_data값을 넣어주면 됩니다.\n",
    "                  이어서 진행할 강의에서 사용할 torchvision.datasets.이하의 dataset도 불러온 다음  dataset = 하고 넣어주시면 됩니다.\n",
    "                  사용방법은 아래를 참고하세요.\n",
    "\n",
    "    batch_size  : batch_size는 말그대로 batch_size 입니다.\n",
    "    shuffle     : dataset을 섞는 겁니다.\n",
    "    num_worker  : 데이터 loader를 하기 위해 사용할 core의 수를 결정합니다. core가 많을 수록 빠릅니다.\n",
    "    '''\n"
   ]
  },
  {
   "cell_type": "code",
   "execution_count": null,
   "metadata": {},
   "outputs": [],
   "source": [
    "from torch.utils.data import DataLoader\n",
    "\n",
    "import torchvision\n",
    "from torchvision import transforms"
   ]
  },
  {
   "cell_type": "code",
   "execution_count": null,
   "metadata": {},
   "outputs": [],
   "source": [
    "data=0"
   ]
  },
  {
   "cell_type": "code",
   "execution_count": null,
   "metadata": {},
   "outputs": [],
   "source": [
    "trans = transforms.Compose([\n",
    "    #아까 없던 코드니까 추가해주세요!\n",
    "    transforms.ToTensor()\n",
    "])\n",
    "train_data=torchvision.datasets.ImageFolder(root='./train_data',transform=trans)\n",
    "\n",
    "trainloader=DataLoader(dataset=train_data,batch_size=4,shuffle=True,num_workers=4)"
   ]
  },
  {
   "cell_type": "markdown",
   "metadata": {},
   "source": [
    "### num은 몇번째 값인지\n",
    "### data[0]는 input으로 들어갈 data value\n",
    "### data[1]는 label 값 입니다.\n",
    "### batch_size 값을 바꿔가면서 아래 print 값을 확인해 보세요!"
   ]
  },
  {
   "cell_type": "code",
   "execution_count": null,
   "metadata": {},
   "outputs": [],
   "source": [
    "for num, data in enumerate(trainloader):\n",
    "    print(num, type(data[0]), data[1])"
   ]
  },
  {
   "cell_type": "code",
   "execution_count": null,
   "metadata": {},
   "outputs": [],
   "source": []
  }
 ],
 "metadata": {
  "kernelspec": {
   "display_name": "Python 3",
   "language": "python",
   "name": "python3"
  },
  "language_info": {
   "codemirror_mode": {
    "name": "ipython",
    "version": 3
   },
   "file_extension": ".py",
   "mimetype": "text/x-python",
   "name": "python",
   "nbconvert_exporter": "python",
   "pygments_lexer": "ipython3",
   "version": "3.7.1"
  }
 },
 "nbformat": 4,
 "nbformat_minor": 2
}
