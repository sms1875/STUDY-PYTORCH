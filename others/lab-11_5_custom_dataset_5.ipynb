{
 "cells": [
  {
   "cell_type": "markdown",
   "metadata": {},
   "source": [
    "#    모두를 위한 딥러닝 시즌2 pytorch\n",
    "    *** Custom Dataset은 어떻게 쓰나요? (5)***\n",
    "\n",
    "    training을 위한 코드를 작성 중 optim과 loss를 결정하고 학습을 진행해 보겠습니다.\n",
    "    optim과 loss에 대해서 배운 내용은 기억 나시는지요?\n",
    "\n",
    "    4번에서 NN 이라는 Neural Network를 완성했으니\n",
    "    5번에서는 optim과 loss function을 추가해서 학습을 진행해 봅시다.\n",
    "\n",
    "    bonus!\n",
    "\n",
    "    코드 배포를 했는데\n",
    "    GPU만 있는사람도 있고\n",
    "    CPU만 있는 사람도 있어요!\n",
    "\n",
    "    git clone 하면 바로 실행할수 있도록 해주고 싶은데 어떻게 해야하나요?\n",
    "    아래처럼 하세요~!\n",
    "    ex)\n",
    "    if(torch.cuda_is_available() ==1):\n",
    "        device = 'cuda'\n",
    "    else:\n",
    "        device = 'cpu'\n",
    "\n",
    "        ~~~~~~~\n",
    "\n",
    "        model = model.to(device)\n",
    "        inputs = inputs.to(device)\n",
    "        labels = labels.to(device)"
   ]
  },
  {
   "cell_type": "code",
   "execution_count": null,
   "metadata": {},
   "outputs": [],
   "source": [
    "from torch.utils.data import DataLoader\n",
    "\n",
    "import torchvision\n",
    "from torchvision import transforms\n",
    "\n",
    "import torch\n",
    "import torch.nn as nn\n",
    "import torch.nn.functional as F"
   ]
  },
  {
   "cell_type": "code",
   "execution_count": null,
   "metadata": {},
   "outputs": [],
   "source": [
    "data=0"
   ]
  },
  {
   "cell_type": "code",
   "execution_count": null,
   "metadata": {},
   "outputs": [],
   "source": [
    "class NN(nn.Module):\n",
    "    def __init__(self):\n",
    "        super(NN,self).__init__()\n",
    "        self.conv1 = nn.Conv2d(3,6,5)\n",
    "        self.conv2 = nn.Conv2d(6,16,5)\n",
    "        self.pool=nn.MaxPool2d(2)\n",
    "        self.fc1 = nn.Linear(16*13*29,120)\n",
    "        self.fc2 = nn.Linear(120,2)\n",
    "\n",
    "    def forward(self,x):\n",
    "        x=F.relu(self.conv1(x))\n",
    "        x=self.pool(x)\n",
    "        x=F.relu(self.conv2(x))\n",
    "        x=self.pool(x)\n",
    "        x=x.view(x.shape[0],-1)\n",
    "        x=F.relu(self.fc1(x))\n",
    "        x=self.fc2(x)\n",
    "        return x"
   ]
  },
  {
   "cell_type": "code",
   "execution_count": null,
   "metadata": {},
   "outputs": [],
   "source": [
    "if (torch.cuda.is_available() ==1):\n",
    "    print(\"cuda is available\")\n",
    "    device ='cuda'\n",
    "else:\n",
    "    device = 'cpu'"
   ]
  },
  {
   "cell_type": "code",
   "execution_count": null,
   "metadata": {},
   "outputs": [],
   "source": [
    "trans = transforms.Compose([\n",
    "    transforms.ToTensor(),\n",
    "])"
   ]
  },
  {
   "cell_type": "code",
   "execution_count": null,
   "metadata": {},
   "outputs": [],
   "source": [
    "train_data=torchvision.datasets.ImageFolder(root='./train_data',transform=trans)\n",
    "trainloader=DataLoader(dataset=train_data,batch_size=8,shuffle=True,num_workers=4)\n"
   ]
  },
  {
   "cell_type": "code",
   "execution_count": null,
   "metadata": {},
   "outputs": [],
   "source": [
    "length = len(trainloader)\n",
    "print(length)"
   ]
  },
  {
   "cell_type": "code",
   "execution_count": null,
   "metadata": {},
   "outputs": [],
   "source": [
    "net = NN().to(device)\n",
    "optim = torch.optim.Adam(net.parameters(), lr=0.00001)\n",
    "loss_function = nn.CrossEntropyLoss()"
   ]
  },
  {
   "cell_type": "code",
   "execution_count": null,
   "metadata": {},
   "outputs": [],
   "source": [
    "epochs =30\n",
    "for epoch in range(epochs):\n",
    "    running_loss=0.0\n",
    "    for num, data in enumerate(trainloader):\n",
    "        inputs, labels = data\n",
    "        inputs = inputs.to(device)\n",
    "        labels = labels.to(device)\n",
    "        out = net(inputs)\n",
    "\n",
    "        loss = loss_function(out, labels)\n",
    "        loss.backward()\n",
    "        optim.step()\n",
    "\n",
    "        running_loss +=loss.item()\n",
    "        if num % length == (length-1):\n",
    "            print('[%d, %5d] loss: %.3f' %  (epoch + 1, num + 1, running_loss / length))\n",
    "            running_loss = 0.0"
   ]
  },
  {
   "cell_type": "code",
   "execution_count": null,
   "metadata": {},
   "outputs": [],
   "source": []
  }
 ],
 "metadata": {
  "kernelspec": {
   "display_name": "Python 3",
   "language": "python",
   "name": "python3"
  },
  "language_info": {
   "codemirror_mode": {
    "name": "ipython",
    "version": 3
   },
   "file_extension": ".py",
   "mimetype": "text/x-python",
   "name": "python",
   "nbconvert_exporter": "python",
   "pygments_lexer": "ipython3",
   "version": "3.7.1"
  }
 },
 "nbformat": 4,
 "nbformat_minor": 2
}
